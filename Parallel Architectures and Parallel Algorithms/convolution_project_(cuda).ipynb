{
  "nbformat": 4,
  "nbformat_minor": 0,
  "metadata": {
    "colab": {
      "provenance": []
    },
    "kernelspec": {
      "name": "python3",
      "display_name": "Python 3"
    },
    "language_info": {
      "name": "python"
    }
  },
  "cells": [
    {
      "cell_type": "code",
      "execution_count": null,
      "metadata": {
        "id": "z8LpVUxG-yma"
      },
      "outputs": [],
      "source": [
        "%%writefile proj.cu"
      ]
    },
    {
      "cell_type": "code",
      "source": [
        "//lib for i/o, read & save images, cuda functionality\n",
        "#include <iostream>\n",
        "#include </content/stb_image.h>\n",
        "#include </content/stb_image_write.h>\n",
        "#include <cuda_runtime.h>\n",
        "\n",
        "\n",
        "using namespace std;"
      ],
      "metadata": {
        "id": "hqa9wvji_hmA"
      },
      "execution_count": null,
      "outputs": []
    },
    {
      "cell_type": "code",
      "source": [
        "//define & apply filter (laplacian)\n",
        "__constant__ int lapfilter[3][3] = {\n",
        "    {0, 1, 0},\n",
        "    {1, -4, 1},\n",
        "    {0, 1, 0}\n",
        "};\n",
        "\n",
        "__global__ void applyfilter(const unsigned char* inputimg, unsigned char* o, int width, int height)\n",
        "{\n",
        "    int i = blockIdx.y*blockDim.y+threadIdx.y;\n",
        "    int j = blockIdx.x*blockDim.x+threadIdx.x;\n",
        "\n",
        "\n",
        "    if (i > 0 && i < height-1 && j > 0 && j < width-1) {\n",
        "        int sum = 0;\n",
        "        for (int k = 0; k < 3; k++) {\n",
        "            for (int l = 0; l < 3; l++) {\n",
        "                sum += lapfilter[k][l]*inputimg[(i-1+k)*width + (j-1+l)];\n",
        "            }\n",
        "        }\n",
        "        o[i*width+j] = min(max(sum, 0), 255);\n",
        "    }\n",
        "}"
      ],
      "metadata": {
        "id": "DVryZByq_lwr"
      },
      "execution_count": null,
      "outputs": []
    },
    {
      "cell_type": "code",
      "source": [
        "int main() {\n",
        "\n",
        "\n",
        "    int width, height, channels;\n",
        "    unsigned char* inputimg = stbi_load(\"/content/testimg.jpg\", &width, &height, &channels, 1);\n",
        "    if (!inputimg)\n",
        "    {\n",
        "        cout << \"Failed to load image.\" << endl;\n",
        "        return -1;\n",
        "    }\n",
        "\n",
        "    // allocate mem on device\n",
        "    unsigned char* deviceInputImg;\n",
        "    unsigned char* deviceFilteredImg;\n",
        "    cudaMalloc(&deviceInputImg, width*height*sizeof(unsigned char));\n",
        "    cudaMalloc(&deviceFilteredImg, width*height*sizeof(unsigned char));\n",
        "\n",
        "\n",
        "    // copy from host to device\n",
        "    cudaMemcpy(deviceInputImg, inputimg, width*height*sizeof(unsigned char), cudaMemcpyHostToDevice);\n",
        "\n",
        "\n",
        "    // set block & grid dim (grid must be bigger than image)\n",
        "    dim3 blockDim(8, 8);\n",
        "    dim3 gridDim((width+blockDim.x-1) / blockDim.x, (height+blockDim.y-1) / blockDim.y);\n",
        "\n",
        "    // apply filter\n",
        "    applyfilter<<<gridDim, blockDim>>>(deviceInputImg, deviceFilteredImg, width, height);\n",
        "\n",
        "\n",
        "    // copy from device to host\n",
        "    unsigned char* filtered_img = new unsigned char[width*height];\n",
        "    cudaMemcpy(filtered_img, deviceFilteredImg, width*height*sizeof(unsigned char), cudaMemcpyDeviceToHost);\n",
        "\n",
        "\n",
        "    // create output image and save\n",
        "    unsigned char* outputimg = new unsigned char[width*height];\n",
        "    for (int i = 0; i < width*height; i++) {\n",
        "        outputimg[i] = filtered_img[i];\n",
        "    }\n",
        "\n",
        "\n",
        "    int filtered=stbi_write_jpg(\"/content/testimgfiltered.jpg\", width, height, 1, outputimg, 100);\n",
        "\n",
        "\n",
        "    if (filtered)\n",
        "      cout << \"Filter applied successfully.\" << endl;\n",
        "    else\n",
        "      cout << \"Failed to apply filter.\" << endl;\n",
        "\n",
        "\n",
        "    // free device mem\n",
        "    cudaFree(deviceInputImg);\n",
        "    cudaFree(deviceFilteredImg);\n",
        "\n",
        "\n",
        "    // free host mem\n",
        "    delete[] inputimg;\n",
        "    delete[] outputimg;\n",
        "\n",
        "\n",
        "    return 0;\n",
        "}"
      ],
      "metadata": {
        "id": "HQVhIydQ_1ZQ"
      },
      "execution_count": null,
      "outputs": []
    },
    {
      "cell_type": "code",
      "source": [
        "!nvcc proj.cu /content/stb_image.c /content/stb_image_write.c -o proj\n",
        "!./proj"
      ],
      "metadata": {
        "id": "2xJqrmMRAzF9"
      },
      "execution_count": null,
      "outputs": []
    }
  ]
}